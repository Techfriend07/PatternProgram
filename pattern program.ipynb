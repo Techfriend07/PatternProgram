{
 "cells": [
  {
   "cell_type": "code",
   "execution_count": 10,
   "metadata": {},
   "outputs": [
    {
     "name": "stdout",
     "output_type": "stream",
     "text": [
      "enter the number of rows5\n",
      "*\n",
      "**\n",
      "***\n",
      "****\n",
      "*****\n"
     ]
    }
   ],
   "source": [
    "num = int (input(\"enter the number of rows\"))\n",
    "\n",
    "for i in range(1, num+1):\n",
    "    for j in range(1, i+1):\n",
    "        print(\"*\",end=\"\")\n",
    "    print()    "
   ]
  },
  {
   "cell_type": "code",
   "execution_count": 3,
   "metadata": {},
   "outputs": [
    {
     "name": "stdout",
     "output_type": "stream",
     "text": [
      " * *  * *  \n",
      "*   *   * \n",
      "*      * \n",
      " *    *  \n",
      "  *  *   \n",
      "   *    \n"
     ]
    }
   ],
   "source": [
    "# heart shape pattern\n",
    "\n",
    "for row in range(6):\n",
    "    for col in range(7):\n",
    "        if(row == 0 and col%3 !=0) or (row ==1 and col%3 ==0) or (row-col==2) or (row + col == 8):\n",
    "            print(\"*\",end=\" \")\n",
    "        else:\n",
    "            print(end=\" \")\n",
    "    print(\"\")        "
   ]
  },
  {
   "cell_type": "markdown",
   "metadata": {},
   "source": [
    "# number pattern in pyramid shape:\n",
    "num = int (input(\"enter the number of rows\"))\n",
    "for i in range(1, num+1):\n",
    "    for j in range(1, num-i+1):\n",
    "        print(end=\" \")\n",
    "    for j in range(i,o,-1):\n",
    "    \n",
    "        "
   ]
  },
  {
   "cell_type": "code",
   "execution_count": 26,
   "metadata": {},
   "outputs": [
    {
     "name": "stdout",
     "output_type": "stream",
     "text": [
      "4\n",
      "3\n",
      "2\n",
      "1\n"
     ]
    }
   ],
   "source": [
    "i = 4\n",
    "for j in range(i,0,-1):\n",
    "    print(j)"
   ]
  },
  {
   "cell_type": "code",
   "execution_count": 28,
   "metadata": {
    "scrolled": true
   },
   "outputs": [
    {
     "name": "stdout",
     "output_type": "stream",
     "text": [
      "enter the number of rows4\n",
      "   1\n",
      "  212\n",
      " 32123\n",
      "4321234\n"
     ]
    }
   ],
   "source": [
    "# number pattern in pyramid shape:\n",
    "\n",
    "num = int (input(\"enter the number of rows\"))\n",
    "for i in range(1, num+1):\n",
    "    for j in range(1, num-i+1):\n",
    "        print(end=\" \")\n",
    "    for j in range(i,0,-1):\n",
    "        print(j, end=\"\")\n",
    "    for j in range(2,i+1):\n",
    "        print(j, end=\"\")\n",
    "    print()    "
   ]
  },
  {
   "cell_type": "code",
   "execution_count": 14,
   "metadata": {},
   "outputs": [
    {
     "name": "stdout",
     "output_type": "stream",
     "text": [
      "# #\n",
      "# #\n",
      "###\n",
      "# #\n",
      "# #\n"
     ]
    }
   ],
   "source": [
    "# number pattern in H-shape:\n",
    "\n",
    "for row in range(5):\n",
    "    for col in range(3):\n",
    "        if (col != 1) or ((col == 1) and (row == 2)):\n",
    "            print(\"#\",end=\"\")\n",
    "        else:\n",
    "            print(end=\" \")\n",
    "    print()        \n",
    "   "
   ]
  },
  {
   "cell_type": "code",
   "execution_count": 7,
   "metadata": {
    "scrolled": true
   },
   "outputs": [
    {
     "name": "stdout",
     "output_type": "stream",
     "text": [
      " *** \n",
      "*   *\n",
      "*****\n",
      "*   *\n",
      "*   *\n"
     ]
    }
   ],
   "source": [
    "# * pattern in A-shape:\n",
    "\n",
    "for row in range(5):\n",
    "    for col in range(5):\n",
    "        if ((col == 0 or col == 4)  and row != 0) or ((row == 0 or row == 2)and (col>0 and col<4)):\n",
    "            print(\"*\", end =\"\")\n",
    "        else:\n",
    "            print(end=\" \")\n",
    "    print(\"\")        \n"
   ]
  },
  {
   "cell_type": "code",
   "execution_count": 6,
   "metadata": {
    "scrolled": true
   },
   "outputs": [
    {
     "name": "stdout",
     "output_type": "stream",
     "text": [
      "****\n",
      "*  *\n",
      "*  *\n",
      "****\n",
      "*  *\n",
      "*  *\n",
      "****\n"
     ]
    }
   ],
   "source": [
    "# * pattern in B-shape:\n",
    "for row in range(7):\n",
    "    for col in range(4):\n",
    "        if (col == 0 or col == 3) or ((row == 0 or row == 3 or row == 6) and (col>0 or col<3)):\n",
    "            print(\"*\", end=\"\")\n",
    "        else:\n",
    "            print(end=\" \")\n",
    "    print(\"\")        \n"
   ]
  },
  {
   "cell_type": "code",
   "execution_count": 32,
   "metadata": {},
   "outputs": [
    {
     "name": "stdout",
     "output_type": "stream",
     "text": [
      "enter the number:4\n",
      "1 \n",
      "2 3 \n",
      "4 5 6 \n",
      "7 8 9 10 \n"
     ]
    }
   ],
   "source": [
    "n = int(input(\"enter the number:\"))\n",
    "num = 1\n",
    "for row in range(n):\n",
    "    for col in range(row + 1):\n",
    "        print(num,end=\" \")\n",
    "        num = num+1\n",
    "    print()    "
   ]
  },
  {
   "cell_type": "code",
   "execution_count": 30,
   "metadata": {
    "scrolled": true
   },
   "outputs": [
    {
     "name": "stdout",
     "output_type": "stream",
     "text": [
      "enter the number:4\n",
      "1 \n",
      "1 2 \n",
      "1 2 3 \n",
      "1 2 3 4 \n",
      "1 2 3 \n",
      "1 2 \n",
      "1 \n",
      "\n"
     ]
    }
   ],
   "source": [
    "# pyramid shape with numbers:\n",
    "n = int(input(\"enter the number:\"))\n",
    "\n",
    "for row in range(1,n+1):\n",
    "    for col in range(1,row +1):\n",
    "        print(col,end=\" \")    \n",
    "    print()\n",
    "for i in range(n):\n",
    "    for j in range(1,n-i):\n",
    "        print(j,end=\" \")\n",
    "    print()    "
   ]
  },
  {
   "cell_type": "code",
   "execution_count": 37,
   "metadata": {},
   "outputs": [
    {
     "name": "stdout",
     "output_type": "stream",
     "text": [
      "enter any string for the ladder shape:python\n",
      "p \n",
      "p y \n",
      "p y t \n",
      "p y t h \n",
      "p y t h o \n",
      "p y t h o n \n",
      "y t h o n \n",
      "y t h o \n",
      "y t h \n",
      "y t \n",
      "y \n",
      "\n"
     ]
    }
   ],
   "source": [
    "# ladder shape of the string:\n",
    "\n",
    "string = input(\"enter any string for the ladder shape:\")\n",
    "length = len(string)\n",
    "for row in range(length):\n",
    "    for col in range(row+1):\n",
    "        print(string[col],end=\" \")\n",
    "    print()\n",
    "for i in range(length):\n",
    "    for j in range(1,length-i):\n",
    "        print(string[j],end=\" \")\n",
    "    print()    "
   ]
  },
  {
   "cell_type": "code",
   "execution_count": 19,
   "metadata": {
    "scrolled": false
   },
   "outputs": [
    {
     "name": "stdout",
     "output_type": "stream",
     "text": [
      "enter the number of rows:11\n",
      "          *\n",
      "         ***\n",
      "        *****\n",
      "       *******\n",
      "      *********\n",
      "     ***********\n",
      "    *************\n",
      "   ***************\n",
      "  *****************\n",
      " *******************\n",
      "*********************\n",
      "*********************\n",
      " *******************\n",
      "  *****************\n",
      "   ***************\n",
      "    *************\n",
      "     ***********\n",
      "      *********\n",
      "       *******\n",
      "        *****\n",
      "         ***\n",
      "          *\n",
      "\n"
     ]
    }
   ],
   "source": [
    "# printing diamond shape with aesterstick:\n",
    "\n",
    "n = int(input(\"enter the number of rows:\"))\n",
    "\n",
    "for i in range(1, n+1):\n",
    "    print(\" \"*(n-i)+\"*\"*(i)+\"*\"*(i-1))\n",
    "    \n",
    "for j in range(1,n+1):\n",
    "    print(\" \"*(j-1)+\"*\"*(n+1-j)+\"*\"*(n-j))\n",
    "print()    \n"
   ]
  },
  {
   "cell_type": "code",
   "execution_count": 60,
   "metadata": {},
   "outputs": [
    {
     "ename": "ValueError",
     "evalue": "range() arg 3 must not be zero",
     "output_type": "error",
     "traceback": [
      "\u001b[1;31m---------------------------------------------------------------------------\u001b[0m",
      "\u001b[1;31mValueError\u001b[0m                                Traceback (most recent call last)",
      "\u001b[1;32m<ipython-input-60-bc094835c55a>\u001b[0m in \u001b[0;36m<module>\u001b[1;34m\u001b[0m\n\u001b[0;32m      1\u001b[0m \u001b[1;32mfor\u001b[0m \u001b[0mi\u001b[0m \u001b[1;32min\u001b[0m \u001b[0mrange\u001b[0m\u001b[1;33m(\u001b[0m\u001b[1;36m4\u001b[0m\u001b[1;33m)\u001b[0m\u001b[1;33m:\u001b[0m\u001b[1;33m\u001b[0m\u001b[1;33m\u001b[0m\u001b[0m\n\u001b[1;32m----> 2\u001b[1;33m     \u001b[1;32mfor\u001b[0m \u001b[0mj\u001b[0m \u001b[1;32min\u001b[0m \u001b[0mrange\u001b[0m\u001b[1;33m(\u001b[0m\u001b[1;36m1\u001b[0m\u001b[1;33m,\u001b[0m\u001b[1;36m0\u001b[0m\u001b[1;33m,\u001b[0m\u001b[1;33m-\u001b[0m\u001b[0mi\u001b[0m\u001b[1;33m)\u001b[0m\u001b[1;33m:\u001b[0m\u001b[1;33m\u001b[0m\u001b[1;33m\u001b[0m\u001b[0m\n\u001b[0m\u001b[0;32m      3\u001b[0m         \u001b[0mprint\u001b[0m\u001b[1;33m(\u001b[0m\u001b[1;34m\"*\"\u001b[0m\u001b[1;33m)\u001b[0m\u001b[1;33m\u001b[0m\u001b[1;33m\u001b[0m\u001b[0m\n\u001b[0;32m      4\u001b[0m \u001b[1;33m\u001b[0m\u001b[0m\n",
      "\u001b[1;31mValueError\u001b[0m: range() arg 3 must not be zero"
     ]
    }
   ],
   "source": [
    "for i in range(4):\n",
    "    for j in range(1,0,-i):\n",
    "        print(\"*\")\n",
    "    "
   ]
  },
  {
   "cell_type": "code",
   "execution_count": 8,
   "metadata": {
    "scrolled": true
   },
   "outputs": [
    {
     "ename": "ModuleNotFoundError",
     "evalue": "No module named '_curses'",
     "output_type": "error",
     "traceback": [
      "\u001b[1;31m---------------------------------------------------------------------------\u001b[0m",
      "\u001b[1;31mModuleNotFoundError\u001b[0m                       Traceback (most recent call last)",
      "\u001b[1;32m<ipython-input-8-8b18af15514e>\u001b[0m in \u001b[0;36m<module>\u001b[1;34m\u001b[0m\n\u001b[0;32m      1\u001b[0m \u001b[1;32mimport\u001b[0m \u001b[0mrandom\u001b[0m\u001b[1;33m\u001b[0m\u001b[1;33m\u001b[0m\u001b[0m\n\u001b[1;32m----> 2\u001b[1;33m \u001b[1;32mimport\u001b[0m \u001b[0mcurses\u001b[0m\u001b[1;33m\u001b[0m\u001b[1;33m\u001b[0m\u001b[0m\n\u001b[0m\u001b[0;32m      3\u001b[0m \u001b[1;33m\u001b[0m\u001b[0m\n\u001b[0;32m      4\u001b[0m \u001b[1;33m\u001b[0m\u001b[0m\n\u001b[0;32m      5\u001b[0m \u001b[0ms\u001b[0m \u001b[1;33m=\u001b[0m \u001b[0mcurses\u001b[0m\u001b[1;33m.\u001b[0m\u001b[0minitscr\u001b[0m\u001b[1;33m(\u001b[0m\u001b[1;33m)\u001b[0m\u001b[1;33m\u001b[0m\u001b[1;33m\u001b[0m\u001b[0m\n",
      "\u001b[1;32m~\\Anaconda3\\lib\\curses\\__init__.py\u001b[0m in \u001b[0;36m<module>\u001b[1;34m\u001b[0m\n\u001b[0;32m     11\u001b[0m \"\"\"\n\u001b[0;32m     12\u001b[0m \u001b[1;33m\u001b[0m\u001b[0m\n\u001b[1;32m---> 13\u001b[1;33m \u001b[1;32mfrom\u001b[0m \u001b[0m_curses\u001b[0m \u001b[1;32mimport\u001b[0m \u001b[1;33m*\u001b[0m\u001b[1;33m\u001b[0m\u001b[1;33m\u001b[0m\u001b[0m\n\u001b[0m\u001b[0;32m     14\u001b[0m \u001b[1;32mimport\u001b[0m \u001b[0mos\u001b[0m \u001b[1;32mas\u001b[0m \u001b[0m_os\u001b[0m\u001b[1;33m\u001b[0m\u001b[1;33m\u001b[0m\u001b[0m\n\u001b[0;32m     15\u001b[0m \u001b[1;32mimport\u001b[0m \u001b[0msys\u001b[0m \u001b[1;32mas\u001b[0m \u001b[0m_sys\u001b[0m\u001b[1;33m\u001b[0m\u001b[1;33m\u001b[0m\u001b[0m\n",
      "\u001b[1;31mModuleNotFoundError\u001b[0m: No module named '_curses'"
     ]
    }
   ],
   "source": [
    "import random\n",
    "import curses\n",
    "\n",
    "\n",
    "s = curses.initscr()\n",
    "curses.curs_set(0)\n",
    "sh , sw = s.getmaxyx()\n",
    "w = curses.newwin(sh,sw,o,o)\n",
    "w.keypad(1)\n",
    "w.timeout(100)\n",
    "\n",
    "snk_x = sw/4\n",
    "snk_y = sh/2\n",
    "snake = [\n",
    "    [snk_y,snk_x],\n",
    "    [snk_y,snk_x-1],\n",
    "    [snk_y,snk_x-2]\n",
    "]\n",
    "\n",
    "food = [sh/2, sw/2]\n",
    "\n",
    "w.addch(food[0], food[1], curses.ACS_PI)\n",
    "\n",
    "key = curses.KEY_RIGHT\n",
    "\n",
    "while True:\n",
    "    next_key = w.getch()\n",
    "    key = key if next_key == -1 else next_key\n",
    "\n",
    "    if snake[0][0] in [0, sh] or snake[0][1] in [0,sw] or snake[0] in snake[1:]:\n",
    "        curses.endwin()\n",
    "        quit()\n",
    "\n",
    "    new_head = [snake[0][0], snake[0][1]]\n",
    "\n",
    "    if key == curse.KEY_DOWN:\n",
    "        new_head[0] += 1\n",
    "    if key == curse.KEY_UP:\n",
    "            new_head[0] -= 1\n",
    "    if key == curse.KEY_LEFT:\n",
    "        new_head[0] -= 1\n",
    "    if key == curse.KEY_RIGHT:\n",
    "        new_head[0] += 1\n",
    "\n",
    "    snake.insert(0, new_head)\n",
    "\n",
    "    if snake[0] == food:\n",
    "        food = None\n",
    "        while food is None:\n",
    "            nf = [\n",
    "                random.randint(1, sh-1),\n",
    "                random.randint(1, sw-1)\n",
    "            ]\n",
    "            food = nf if nf not in snake else None\n",
    "        w.addch(food[0], food[1], curses.ACS_PI)\n",
    "\n",
    "    else:\n",
    "        tail = snake.pop()\n",
    "        w.addch(tail[0], tail[1], ' ')\n",
    "\n",
    "    w.addch(snake[0][0], snake[0][1], curses.ACS_CKBOARD)"
   ]
  },
  {
   "cell_type": "code",
   "execution_count": null,
   "metadata": {},
   "outputs": [],
   "source": []
  }
 ],
 "metadata": {
  "kernelspec": {
   "display_name": "Python 3",
   "language": "python",
   "name": "python3"
  },
  "language_info": {
   "codemirror_mode": {
    "name": "ipython",
    "version": 3
   },
   "file_extension": ".py",
   "mimetype": "text/x-python",
   "name": "python",
   "nbconvert_exporter": "python",
   "pygments_lexer": "ipython3",
   "version": "3.7.1"
  }
 },
 "nbformat": 4,
 "nbformat_minor": 2
}
